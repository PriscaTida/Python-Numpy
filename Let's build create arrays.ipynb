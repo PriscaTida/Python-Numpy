{
 "cells": [
  {
   "cell_type": "code",
   "execution_count": 33,
   "id": "38d7f0e0",
   "metadata": {},
   "outputs": [
    {
     "name": "stdout",
     "output_type": "stream",
     "text": [
      "[11, 22, 33, 44, 55, 66]\n"
     ]
    }
   ],
   "source": [
    "#Question 1\n",
    "import numpy as np\n",
    "\n",
    "Array = np.array([11,22,33,44,55,66])\n",
    "\n",
    "List = Array.tolist()\n",
    "\n",
    "print(List)"
   ]
  },
  {
   "cell_type": "code",
   "execution_count": 34,
   "id": "2fb27e5a",
   "metadata": {},
   "outputs": [
    {
     "name": "stdout",
     "output_type": "stream",
     "text": [
      "The initial array is:\n",
      " [[0 1 2]\n",
      " [3 4 5]\n",
      " [6 7 8]]\n",
      "The diagonal elements: \n",
      " [0 4 8]\n",
      "The sum of the diagonal elements of the array is: 12\n"
     ]
    }
   ],
   "source": [
    "#Question 2\n",
    "import numpy as np\n",
    "\n",
    "a = np.array([[0,1,2],[3,4,5],[6,7,8]])\n",
    "print('The initial array is:\\n',a)\n",
    "\n",
    "d = a.diagonal()\n",
    "print(\"The diagonal elements: \\n\",d)\n",
    "\n",
    "result = sum(d)\n",
    "print('The sum of the diagonal elements of the array is:',result)"
   ]
  },
  {
   "cell_type": "code",
   "execution_count": 35,
   "id": "5d844e18",
   "metadata": {},
   "outputs": [
    {
     "name": "stdout",
     "output_type": "stream",
     "text": [
      "The initial array is :\n",
      " [[1 0 4]\n",
      " [2 5 3]]\n",
      "The value higher than x are:\n",
      " [4, 5, 3]\n"
     ]
    }
   ],
   "source": [
    "#Question 3\n",
    "import numpy as np\n",
    "\n",
    "a = np.array([[1,0,4],[2,5,3]])\n",
    "\n",
    "rows = len(a)\n",
    "columns = len(a[0])\n",
    "l = []\n",
    "x = 2\n",
    "\n",
    "for i in range(rows):    \n",
    "    for j in range(columns):        \n",
    "        value = a[i,j]\n",
    "        if value>x: \n",
    "            l.append(value)\n",
    "print('The initial array is :\\n',a)\n",
    "print('The value higher than x are:\\n',l)\n",
    "        "
   ]
  },
  {
   "cell_type": "code",
   "execution_count": 26,
   "id": "ff3ffef3",
   "metadata": {},
   "outputs": [
    {
     "name": "stdout",
     "output_type": "stream",
     "text": [
      "[[ 6  8]\n",
      " [10 12]]\n"
     ]
    }
   ],
   "source": [
    "#Question 4\n",
    "import numpy as np\n",
    "\n",
    "A = np.array([[1,2],[3,4]])\n",
    "B = np.array([[5,6],[7,8]])\n",
    "C = A + B\n",
    "print(C)"
   ]
  },
  {
   "cell_type": "code",
   "execution_count": 41,
   "id": "3ed0d56f",
   "metadata": {},
   "outputs": [
    {
     "name": "stdout",
     "output_type": "stream",
     "text": [
      "The original matrix is :\n",
      " [[2 1]\n",
      " [5 4]]\n",
      "Mean of the matrix is :\n",
      " [1.5 4.5]\n",
      "The result is :\n",
      " [[ 0.5 -3.5]\n",
      " [ 3.5 -0.5]]\n"
     ]
    }
   ],
   "source": [
    "#Question 5\n",
    "import numpy as np\n",
    "\n",
    "A = np.array([[2, 1], [5, 4]])\n",
    "\n",
    "A1 = np.mean(A, axis=1)\n",
    "output = A - A1\n",
    "\n",
    "print('The original matrix is :\\n',A)\n",
    "\n",
    "print('Mean of the matrix is :\\n',A1)\n",
    "\n",
    "print('The result is :\\n',output)"
   ]
  },
  {
   "cell_type": "code",
   "execution_count": null,
   "id": "ecd2d692",
   "metadata": {},
   "outputs": [],
   "source": []
  },
  {
   "cell_type": "code",
   "execution_count": null,
   "id": "6e0470f2",
   "metadata": {},
   "outputs": [],
   "source": []
  }
 ],
 "metadata": {
  "kernelspec": {
   "display_name": "Python 3 (ipykernel)",
   "language": "python",
   "name": "python3"
  },
  "language_info": {
   "codemirror_mode": {
    "name": "ipython",
    "version": 3
   },
   "file_extension": ".py",
   "mimetype": "text/x-python",
   "name": "python",
   "nbconvert_exporter": "python",
   "pygments_lexer": "ipython3",
   "version": "3.9.12"
  }
 },
 "nbformat": 4,
 "nbformat_minor": 5
}
